{
  "cells": [
    {
      "cell_type": "markdown",
      "metadata": {
        "id": "view-in-github",
        "colab_type": "text"
      },
      "source": [
        "<a href=\"https://colab.research.google.com/github/Cvanshulll/Improving_Video_call_experience_with_ML/blob/main/Emotion_Detection_Model.ipynb\" target=\"_parent\"><img src=\"https://colab.research.google.com/assets/colab-badge.svg\" alt=\"Open In Colab\"/></a>"
      ]
    },
    {
      "cell_type": "code",
      "execution_count": 162,
      "metadata": {
        "id": "H-DjZpbNiEMD"
      },
      "outputs": [],
      "source": [
        "import numpy as np\n",
        "import pandas as pd\n",
        "from matplotlib import pyplot as plt\n",
        "import tensorflow as tf\n",
        "import os\n",
        "import keras\n",
        "from keras.optimizers import Adam"
      ]
    },
    {
      "cell_type": "code",
      "execution_count": 136,
      "metadata": {
        "id": "Hn39GlTxnJ3Q",
        "colab": {
          "base_uri": "https://localhost:8080/"
        },
        "outputId": "31439be7-88da-4503-aaa6-3ea73150cdb8"
      },
      "outputs": [
        {
          "output_type": "stream",
          "name": "stdout",
          "text": [
            "(35887, 3)\n"
          ]
        }
      ],
      "source": [
        "x = pd.read_csv('/content/drive/MyDrive/Dataset/emotion_dataset/fer2013.csv')\n",
        "print (x.values.shape)"
      ]
    },
    {
      "cell_type": "code",
      "execution_count": 138,
      "metadata": {
        "colab": {
          "base_uri": "https://localhost:8080/",
          "height": 206
        },
        "id": "gCSsfwGYnuBA",
        "outputId": "dbc8b424-7253-42a0-a0b7-f5baa636f5a0"
      },
      "outputs": [
        {
          "output_type": "execute_result",
          "data": {
            "text/plain": [
              "   emotion                                             pixels     Usage\n",
              "0        0  70 80 82 72 58 58 60 63 54 58 60 48 89 115 121...  Training\n",
              "1        0  151 150 147 155 148 133 111 140 170 174 182 15...  Training\n",
              "2        2  231 212 156 164 174 138 161 173 182 200 106 38...  Training\n",
              "3        4  24 32 36 30 32 23 19 20 30 41 21 22 32 34 21 1...  Training\n",
              "4        6  4 0 0 0 0 0 0 0 0 0 0 0 3 15 23 28 48 50 58 84...  Training"
            ],
            "text/html": [
              "\n",
              "  <div id=\"df-0b4d3f45-4a84-4c06-a7cc-a5ece270cf8f\">\n",
              "    <div class=\"colab-df-container\">\n",
              "      <div>\n",
              "<style scoped>\n",
              "    .dataframe tbody tr th:only-of-type {\n",
              "        vertical-align: middle;\n",
              "    }\n",
              "\n",
              "    .dataframe tbody tr th {\n",
              "        vertical-align: top;\n",
              "    }\n",
              "\n",
              "    .dataframe thead th {\n",
              "        text-align: right;\n",
              "    }\n",
              "</style>\n",
              "<table border=\"1\" class=\"dataframe\">\n",
              "  <thead>\n",
              "    <tr style=\"text-align: right;\">\n",
              "      <th></th>\n",
              "      <th>emotion</th>\n",
              "      <th>pixels</th>\n",
              "      <th>Usage</th>\n",
              "    </tr>\n",
              "  </thead>\n",
              "  <tbody>\n",
              "    <tr>\n",
              "      <th>0</th>\n",
              "      <td>0</td>\n",
              "      <td>70 80 82 72 58 58 60 63 54 58 60 48 89 115 121...</td>\n",
              "      <td>Training</td>\n",
              "    </tr>\n",
              "    <tr>\n",
              "      <th>1</th>\n",
              "      <td>0</td>\n",
              "      <td>151 150 147 155 148 133 111 140 170 174 182 15...</td>\n",
              "      <td>Training</td>\n",
              "    </tr>\n",
              "    <tr>\n",
              "      <th>2</th>\n",
              "      <td>2</td>\n",
              "      <td>231 212 156 164 174 138 161 173 182 200 106 38...</td>\n",
              "      <td>Training</td>\n",
              "    </tr>\n",
              "    <tr>\n",
              "      <th>3</th>\n",
              "      <td>4</td>\n",
              "      <td>24 32 36 30 32 23 19 20 30 41 21 22 32 34 21 1...</td>\n",
              "      <td>Training</td>\n",
              "    </tr>\n",
              "    <tr>\n",
              "      <th>4</th>\n",
              "      <td>6</td>\n",
              "      <td>4 0 0 0 0 0 0 0 0 0 0 0 3 15 23 28 48 50 58 84...</td>\n",
              "      <td>Training</td>\n",
              "    </tr>\n",
              "  </tbody>\n",
              "</table>\n",
              "</div>\n",
              "      <button class=\"colab-df-convert\" onclick=\"convertToInteractive('df-0b4d3f45-4a84-4c06-a7cc-a5ece270cf8f')\"\n",
              "              title=\"Convert this dataframe to an interactive table.\"\n",
              "              style=\"display:none;\">\n",
              "        \n",
              "  <svg xmlns=\"http://www.w3.org/2000/svg\" height=\"24px\"viewBox=\"0 0 24 24\"\n",
              "       width=\"24px\">\n",
              "    <path d=\"M0 0h24v24H0V0z\" fill=\"none\"/>\n",
              "    <path d=\"M18.56 5.44l.94 2.06.94-2.06 2.06-.94-2.06-.94-.94-2.06-.94 2.06-2.06.94zm-11 1L8.5 8.5l.94-2.06 2.06-.94-2.06-.94L8.5 2.5l-.94 2.06-2.06.94zm10 10l.94 2.06.94-2.06 2.06-.94-2.06-.94-.94-2.06-.94 2.06-2.06.94z\"/><path d=\"M17.41 7.96l-1.37-1.37c-.4-.4-.92-.59-1.43-.59-.52 0-1.04.2-1.43.59L10.3 9.45l-7.72 7.72c-.78.78-.78 2.05 0 2.83L4 21.41c.39.39.9.59 1.41.59.51 0 1.02-.2 1.41-.59l7.78-7.78 2.81-2.81c.8-.78.8-2.07 0-2.86zM5.41 20L4 18.59l7.72-7.72 1.47 1.35L5.41 20z\"/>\n",
              "  </svg>\n",
              "      </button>\n",
              "      \n",
              "  <style>\n",
              "    .colab-df-container {\n",
              "      display:flex;\n",
              "      flex-wrap:wrap;\n",
              "      gap: 12px;\n",
              "    }\n",
              "\n",
              "    .colab-df-convert {\n",
              "      background-color: #E8F0FE;\n",
              "      border: none;\n",
              "      border-radius: 50%;\n",
              "      cursor: pointer;\n",
              "      display: none;\n",
              "      fill: #1967D2;\n",
              "      height: 32px;\n",
              "      padding: 0 0 0 0;\n",
              "      width: 32px;\n",
              "    }\n",
              "\n",
              "    .colab-df-convert:hover {\n",
              "      background-color: #E2EBFA;\n",
              "      box-shadow: 0px 1px 2px rgba(60, 64, 67, 0.3), 0px 1px 3px 1px rgba(60, 64, 67, 0.15);\n",
              "      fill: #174EA6;\n",
              "    }\n",
              "\n",
              "    [theme=dark] .colab-df-convert {\n",
              "      background-color: #3B4455;\n",
              "      fill: #D2E3FC;\n",
              "    }\n",
              "\n",
              "    [theme=dark] .colab-df-convert:hover {\n",
              "      background-color: #434B5C;\n",
              "      box-shadow: 0px 1px 3px 1px rgba(0, 0, 0, 0.15);\n",
              "      filter: drop-shadow(0px 1px 2px rgba(0, 0, 0, 0.3));\n",
              "      fill: #FFFFFF;\n",
              "    }\n",
              "  </style>\n",
              "\n",
              "      <script>\n",
              "        const buttonEl =\n",
              "          document.querySelector('#df-0b4d3f45-4a84-4c06-a7cc-a5ece270cf8f button.colab-df-convert');\n",
              "        buttonEl.style.display =\n",
              "          google.colab.kernel.accessAllowed ? 'block' : 'none';\n",
              "\n",
              "        async function convertToInteractive(key) {\n",
              "          const element = document.querySelector('#df-0b4d3f45-4a84-4c06-a7cc-a5ece270cf8f');\n",
              "          const dataTable =\n",
              "            await google.colab.kernel.invokeFunction('convertToInteractive',\n",
              "                                                     [key], {});\n",
              "          if (!dataTable) return;\n",
              "\n",
              "          const docLinkHtml = 'Like what you see? Visit the ' +\n",
              "            '<a target=\"_blank\" href=https://colab.research.google.com/notebooks/data_table.ipynb>data table notebook</a>'\n",
              "            + ' to learn more about interactive tables.';\n",
              "          element.innerHTML = '';\n",
              "          dataTable['output_type'] = 'display_data';\n",
              "          await google.colab.output.renderOutput(dataTable, element);\n",
              "          const docLink = document.createElement('div');\n",
              "          docLink.innerHTML = docLinkHtml;\n",
              "          element.appendChild(docLink);\n",
              "        }\n",
              "      </script>\n",
              "    </div>\n",
              "  </div>\n",
              "  "
            ]
          },
          "metadata": {},
          "execution_count": 138
        }
      ],
      "source": [
        "x.head()\n"
      ]
    },
    {
      "cell_type": "code",
      "execution_count": 139,
      "metadata": {
        "colab": {
          "base_uri": "https://localhost:8080/"
        },
        "id": "KNFXdfX0osiT",
        "outputId": "04c54265-ca61-4c4b-d0ba-404e81e536ae"
      },
      "outputs": [
        {
          "output_type": "stream",
          "name": "stdout",
          "text": [
            "<class 'numpy.ndarray'>\n",
            "35887\n",
            "8287\n",
            "3\n"
          ]
        }
      ],
      "source": [
        "\n",
        "y = x.values[:,0]\n",
        "pixels = x.values[:, 1]\n",
        "print (type(pixels))\n",
        "print (len(pixels))\n",
        "print (len(pixels[0]))\n",
        "print (pixels[10][10])"
      ]
    },
    {
      "cell_type": "code",
      "source": [
        "p = pixels[10].split(' ')\n",
        "print(len(p))"
      ],
      "metadata": {
        "colab": {
          "base_uri": "https://localhost:8080/"
        },
        "id": "rhyJpwUpAW0Z",
        "outputId": "f2e76463-4874-4cbc-c28d-3b354cc050df"
      },
      "execution_count": 140,
      "outputs": [
        {
          "output_type": "stream",
          "name": "stdout",
          "text": [
            "2304\n"
          ]
        }
      ]
    },
    {
      "cell_type": "code",
      "source": [
        "X = np.zeros((pixels.shape[0], 48*48))\n",
        "\n",
        "for ix in range(X.shape[0]):\n",
        "    p = pixels[ix].split(' ')\n",
        "    for iy in range(X.shape[1]):\n",
        "        X[ix, iy] = int(p[iy])"
      ],
      "metadata": {
        "id": "ZvA6VqrmAY68"
      },
      "execution_count": 141,
      "outputs": []
    },
    {
      "cell_type": "code",
      "source": [
        "temp = X"
      ],
      "metadata": {
        "id": "USr79JYmAbYq"
      },
      "execution_count": 142,
      "outputs": []
    },
    {
      "cell_type": "code",
      "source": [
        "\n",
        "\n",
        "for ix in range(4):\n",
        "    plt.figure(ix)\n",
        "    plt.imshow(temp[ix].reshape((48, 48)), interpolation='none', cmap='gray')\n",
        "plt.show()\n",
        "\n"
      ],
      "metadata": {
        "colab": {
          "base_uri": "https://localhost:8080/",
          "height": 1000
        },
        "id": "w37PGbbHAdAo",
        "outputId": "050f10fc-cc9c-4e16-c600-0babb2c0d2c1"
      },
      "execution_count": 143,
      "outputs": [
        {
          "output_type": "display_data",
          "data": {
            "text/plain": [
              "<Figure size 640x480 with 1 Axes>"
            ],
            "image/png": "[encoded data removed]"
          },
          "metadata": {}
        },
        {
          "output_type": "display_data",
          "data": {
            "text/plain": [
              "<Figure size 640x480 with 1 Axes>"
            ],
            "image/png": "[encoded data removed]"
          },
          "metadata": {}
        },
        {
          "output_type": "display_data",
          "data": {
            "text/plain": [
              "<Figure size 640x480 with 1 Axes>"
            ],
            "image/png": "[encoded data removed]"
          },
          "metadata": {}
        },
        {
          "output_type": "display_data",
          "data": {
            "text/plain": [
              "<Figure size 640x480 with 1 Axes>"
            ],
            "image/png": "[encoded data removed]"
          },
          "metadata": {}
        }
      ]
    },
    {
      "cell_type": "code",
      "source": [
        "X"
      ],
      "metadata": {
        "colab": {
          "base_uri": "https://localhost:8080/"
        },
        "id": "mbFBa9laAfm-",
        "outputId": "6dd21aa8-3a4f-4743-cd02-bcc1b208f2fc"
      },
      "execution_count": 144,
      "outputs": [
        {
          "output_type": "execute_result",
          "data": {
            "text/plain": [
              "array([[ 70.,  80.,  82., ..., 106., 109.,  82.],\n",
              "       [151., 150., 147., ..., 193., 183., 184.],\n",
              "       [231., 212., 156., ...,  88., 110., 152.],\n",
              "       ...,\n",
              "       [ 17.,  17.,  16., ..., 154., 133., 113.],\n",
              "       [ 30.,  28.,  28., ...,  35.,  30.,  28.],\n",
              "       [ 19.,  13.,  14., ..., 189., 199., 201.]])"
            ]
          },
          "metadata": {},
          "execution_count": 144
        }
      ]
    },
    {
      "cell_type": "code",
      "source": [
        "y"
      ],
      "metadata": {
        "colab": {
          "base_uri": "https://localhost:8080/"
        },
        "id": "ZJxLIc2nAicc",
        "outputId": "9cdf5e82-7b63-42d5-a215-b2f890876b8c"
      },
      "execution_count": 145,
      "outputs": [
        {
          "output_type": "execute_result",
          "data": {
            "text/plain": [
              "array([0, 0, 2, ..., 0, 3, 2], dtype=object)"
            ]
          },
          "metadata": {},
          "execution_count": 145
        }
      ]
    },
    {
      "cell_type": "code",
      "source": [
        "X=X/255"
      ],
      "metadata": {
        "id": "T5yRyGsqAlfM"
      },
      "execution_count": 146,
      "outputs": []
    },
    {
      "cell_type": "code",
      "source": [
        "X"
      ],
      "metadata": {
        "colab": {
          "base_uri": "https://localhost:8080/"
        },
        "id": "eWhAM2YJAsHM",
        "outputId": "b1658c16-361c-486c-d2b8-cdaf981aac8f"
      },
      "execution_count": 147,
      "outputs": [
        {
          "output_type": "execute_result",
          "data": {
            "text/plain": [
              "array([[0.2745098 , 0.31372549, 0.32156863, ..., 0.41568627, 0.42745098,\n",
              "        0.32156863],\n",
              "       [0.59215686, 0.58823529, 0.57647059, ..., 0.75686275, 0.71764706,\n",
              "        0.72156863],\n",
              "       [0.90588235, 0.83137255, 0.61176471, ..., 0.34509804, 0.43137255,\n",
              "        0.59607843],\n",
              "       ...,\n",
              "       [0.06666667, 0.06666667, 0.0627451 , ..., 0.60392157, 0.52156863,\n",
              "        0.44313725],\n",
              "       [0.11764706, 0.10980392, 0.10980392, ..., 0.1372549 , 0.11764706,\n",
              "        0.10980392],\n",
              "       [0.0745098 , 0.05098039, 0.05490196, ..., 0.74117647, 0.78039216,\n",
              "        0.78823529]])"
            ]
          },
          "metadata": {},
          "execution_count": 147
        }
      ]
    },
    {
      "cell_type": "code",
      "source": [
        "X_train = X[0:30000, :]\n",
        "Y_train = y[0:30000]\n",
        "print (X_train.shape, Y_train.shape)\n",
        "\n",
        "X_test = X[30000:32300,:]\n",
        "Y_test = y[30000:32300]\n",
        "print (X_test.shape, Y_test.shape)"
      ],
      "metadata": {
        "colab": {
          "base_uri": "https://localhost:8080/"
        },
        "id": "lOlUvuBVAvS_",
        "outputId": "714f9a8f-33af-435c-e6bc-ce578cab7575"
      },
      "execution_count": 148,
      "outputs": [
        {
          "output_type": "stream",
          "name": "stdout",
          "text": [
            "(30000, 2304) (30000,)\n",
            "(2300, 2304) (2300,)\n"
          ]
        }
      ]
    },
    {
      "cell_type": "code",
      "source": [
        "X_train = X_train.reshape((X_train.shape[0], 48, 48,1 ))\n",
        "X_test  = X_test.reshape((X_test.shape[0], 48, 48,1))"
      ],
      "metadata": {
        "id": "1248PHRnAxR7"
      },
      "execution_count": 149,
      "outputs": []
    },
    {
      "cell_type": "code",
      "source": [
        "\n",
        "Y_train = tf.keras.utils.to_categorical(Y_train)\n",
        "Y_test  = tf.keras.utils.to_categorical(Y_test)\n",
        "print(Y_train.shape)\n",
        "print(Y_test.shape)"
      ],
      "metadata": {
        "colab": {
          "base_uri": "https://localhost:8080/"
        },
        "id": "RK2zyo8cAzEE",
        "outputId": "5d5be3e0-72e0-4885-e7e6-154ff5985aed"
      },
      "execution_count": 150,
      "outputs": [
        {
          "output_type": "stream",
          "name": "stdout",
          "text": [
            "(30000, 7)\n",
            "(2300, 7)\n"
          ]
        }
      ]
    },
    {
      "cell_type": "code",
      "source": [
        "from keras.callbacks import ReduceLROnPlateau\n",
        "lr_reduce = ReduceLROnPlateau(monitor='val_acc', factor=0.1, epsilon=0.0001, patience=1, verbose=1)"
      ],
      "metadata": {
        "colab": {
          "base_uri": "https://localhost:8080/"
        },
        "id": "xQcQjF_VA307",
        "outputId": "b1cb9511-50fa-4580-f824-938066f0a630"
      },
      "execution_count": 152,
      "outputs": [
        {
          "output_type": "stream",
          "name": "stderr",
          "text": [
            "WARNING:tensorflow:`epsilon` argument is deprecated and will be removed, use `min_delta` instead.\n"
          ]
        }
      ]
    },
    {
      "cell_type": "code",
      "source": [
        "from keras.preprocessing.image import ImageDataGenerator\n",
        "\n",
        "datagen = ImageDataGenerator(\n",
        "        featurewise_center=False,  \n",
        "        samplewise_center=False,  \n",
        "        featurewise_std_normalization=False,  \n",
        "        samplewise_std_normalization=False,  \n",
        "        zca_whitening=False,  \n",
        "        rotation_range=10,  \n",
        "        zoom_range = 0.0,  \n",
        "        width_shift_range=0.1,  \n",
        "        height_shift_range=0.1,  \n",
        "        horizontal_flip=False, \n",
        "        vertical_flip=False)  \n",
        "\n",
        "datagen.fit(X_train)"
      ],
      "metadata": {
        "id": "I8Pgs1LRBxVt"
      },
      "execution_count": 155,
      "outputs": []
    },
    {
      "cell_type": "code",
      "source": [
        "from keras.optimizers import Adam\n",
        "model = keras.models.Sequential()\n",
        "\n",
        "model.add(keras.layers.Conv2D(64, kernel_size=(3, 3), activation='relu', input_shape=(48,48,1)))\n",
        "model.add(keras.layers.Conv2D(64, kernel_size=(3, 3), activation='relu'))\n",
        "model.add(keras.layers.MaxPooling2D(pool_size=(2, 2)))\n",
        "model.add(keras.layers.Dropout(0.2))\n",
        "\n",
        "model.add(keras.layers.Conv2D(128, kernel_size=(3, 3), activation='relu'))\n",
        "model.add(keras.layers.MaxPooling2D(pool_size=(2, 2)))\n",
        "model.add(keras.layers.Conv2D(128, kernel_size=(3, 3), activation='relu'))\n",
        "model.add(keras.layers.MaxPooling2D(pool_size=(2, 2)))\n",
        "model.add(keras.layers.Dropout(0.22))\n",
        "\n",
        "model.add(keras.layers.Flatten())\n",
        "model.add(keras.layers.Dense(512, activation='relu'))\n",
        "model.add(keras.layers.Dropout(0.5))\n",
        "model.add(keras.layers.Dense(256, activation='relu'))\n",
        "model.add(keras.layers.Dropout(0.5))\n",
        "model.add(keras.layers.Dense(7, activation='softmax'))\n",
        "\n",
        "model.compile(loss='categorical_crossentropy',\n",
        "              optimizer='adam' ,\n",
        "              metrics=['acc'])"
      ],
      "metadata": {
        "id": "k2Q97hynB973"
      },
      "execution_count": 160,
      "outputs": []
    },
    {
      "cell_type": "code",
      "source": [
        "model.compile(loss='categorical_crossentropy',\n",
        "              optimizer=Adam(lr=0.001, beta_1=0.9, beta_2=0.999, epsilon=1e-7) ,\n",
        "              metrics=['acc'])"
      ],
      "metadata": {
        "id": "qj85AYGFCxvj"
      },
      "execution_count": 163,
      "outputs": []
    },
    {
      "cell_type": "code",
      "source": [
        "\n",
        "\n",
        "batch_size = 64\n",
        "epochs = 40"
      ],
      "metadata": {
        "id": "kBVX6DV7DCgt"
      },
      "execution_count": 164,
      "outputs": []
    },
    {
      "cell_type": "code",
      "source": [
        "history = model.fit(X_train, Y_train, \n",
        "                    batch_size=batch_size,\n",
        "                    validation_data=(X_test, Y_test),\n",
        "                    epochs = epochs,\n",
        "                    shuffle=True, \n",
        "                    verbose = 2)"
      ],
      "metadata": {
        "colab": {
          "base_uri": "https://localhost:8080/"
        },
        "id": "reuCKC3dDGVG",
        "outputId": "b4ce869f-9527-4a70-ba40-5e04b6d3cc54"
      },
      "execution_count": 165,
      "outputs": [
        {
          "output_type": "stream",
          "name": "stdout",
          "text": [
            "Epoch 1/40\n",
            "469/469 - 10s - loss: 1.8222 - acc: 0.2467 - val_loss: 1.7711 - val_acc: 0.2726 - 10s/epoch - 20ms/step\n",
            "Epoch 2/40\n",
            "469/469 - 8s - loss: 1.6790 - acc: 0.3246 - val_loss: 1.4836 - val_acc: 0.4183 - 8s/epoch - 18ms/step\n",
            "Epoch 3/40\n",
            "469/469 - 8s - loss: 1.4960 - acc: 0.4164 - val_loss: 1.3360 - val_acc: 0.4809 - 8s/epoch - 18ms/step\n",
            "Epoch 4/40\n",
            "469/469 - 8s - loss: 1.3841 - acc: 0.4700 - val_loss: 1.2639 - val_acc: 0.5126 - 8s/epoch - 18ms/step\n",
            "Epoch 5/40\n",
            "469/469 - 8s - loss: 1.3188 - acc: 0.4942 - val_loss: 1.2254 - val_acc: 0.5235 - 8s/epoch - 18ms/step\n",
            "Epoch 6/40\n",
            "469/469 - 10s - loss: 1.2773 - acc: 0.5099 - val_loss: 1.2009 - val_acc: 0.5409 - 10s/epoch - 21ms/step\n",
            "Epoch 7/40\n",
            "469/469 - 8s - loss: 1.2392 - acc: 0.5264 - val_loss: 1.2083 - val_acc: 0.5413 - 8s/epoch - 18ms/step\n",
            "Epoch 8/40\n",
            "469/469 - 8s - loss: 1.2074 - acc: 0.5407 - val_loss: 1.1844 - val_acc: 0.5430 - 8s/epoch - 18ms/step\n",
            "Epoch 9/40\n",
            "469/469 - 8s - loss: 1.1836 - acc: 0.5532 - val_loss: 1.1233 - val_acc: 0.5652 - 8s/epoch - 18ms/step\n",
            "Epoch 10/40\n",
            "469/469 - 8s - loss: 1.1599 - acc: 0.5623 - val_loss: 1.1156 - val_acc: 0.5700 - 8s/epoch - 18ms/step\n",
            "Epoch 11/40\n",
            "469/469 - 8s - loss: 1.1358 - acc: 0.5699 - val_loss: 1.1106 - val_acc: 0.5722 - 8s/epoch - 18ms/step\n",
            "Epoch 12/40\n",
            "469/469 - 8s - loss: 1.1154 - acc: 0.5831 - val_loss: 1.1213 - val_acc: 0.5657 - 8s/epoch - 18ms/step\n",
            "Epoch 13/40\n",
            "469/469 - 8s - loss: 1.0953 - acc: 0.5864 - val_loss: 1.1202 - val_acc: 0.5700 - 8s/epoch - 18ms/step\n",
            "Epoch 14/40\n",
            "469/469 - 8s - loss: 1.0717 - acc: 0.5946 - val_loss: 1.0974 - val_acc: 0.5861 - 8s/epoch - 18ms/step\n",
            "Epoch 15/40\n",
            "469/469 - 8s - loss: 1.0649 - acc: 0.5959 - val_loss: 1.0797 - val_acc: 0.5861 - 8s/epoch - 18ms/step\n",
            "Epoch 16/40\n",
            "469/469 - 8s - loss: 1.0480 - acc: 0.6061 - val_loss: 1.0863 - val_acc: 0.5896 - 8s/epoch - 18ms/step\n",
            "Epoch 17/40\n",
            "469/469 - 9s - loss: 1.0365 - acc: 0.6111 - val_loss: 1.0787 - val_acc: 0.5996 - 9s/epoch - 18ms/step\n",
            "Epoch 18/40\n",
            "469/469 - 9s - loss: 1.0148 - acc: 0.6181 - val_loss: 1.0628 - val_acc: 0.5930 - 9s/epoch - 18ms/step\n",
            "Epoch 19/40\n",
            "469/469 - 8s - loss: 1.0049 - acc: 0.6214 - val_loss: 1.0755 - val_acc: 0.5957 - 8s/epoch - 18ms/step\n",
            "Epoch 20/40\n",
            "469/469 - 9s - loss: 0.9935 - acc: 0.6281 - val_loss: 1.0760 - val_acc: 0.6091 - 9s/epoch - 18ms/step\n",
            "Epoch 21/40\n",
            "469/469 - 8s - loss: 0.9766 - acc: 0.6348 - val_loss: 1.1013 - val_acc: 0.5891 - 8s/epoch - 18ms/step\n",
            "Epoch 22/40\n",
            "469/469 - 9s - loss: 0.9608 - acc: 0.6416 - val_loss: 1.0695 - val_acc: 0.6039 - 9s/epoch - 19ms/step\n",
            "Epoch 23/40\n",
            "469/469 - 11s - loss: 0.9539 - acc: 0.6425 - val_loss: 1.0866 - val_acc: 0.5904 - 11s/epoch - 24ms/step\n",
            "Epoch 24/40\n",
            "469/469 - 9s - loss: 0.9420 - acc: 0.6456 - val_loss: 1.0695 - val_acc: 0.6043 - 9s/epoch - 20ms/step\n",
            "Epoch 25/40\n",
            "469/469 - 9s - loss: 0.9298 - acc: 0.6506 - val_loss: 1.0862 - val_acc: 0.6009 - 9s/epoch - 19ms/step\n",
            "Epoch 26/40\n",
            "469/469 - 11s - loss: 0.9215 - acc: 0.6530 - val_loss: 1.0596 - val_acc: 0.6065 - 11s/epoch - 22ms/step\n",
            "Epoch 27/40\n",
            "469/469 - 9s - loss: 0.9188 - acc: 0.6542 - val_loss: 1.0799 - val_acc: 0.6048 - 9s/epoch - 19ms/step\n",
            "Epoch 28/40\n",
            "469/469 - 8s - loss: 0.8997 - acc: 0.6635 - val_loss: 1.0854 - val_acc: 0.5948 - 8s/epoch - 18ms/step\n",
            "Epoch 29/40\n",
            "469/469 - 8s - loss: 0.8902 - acc: 0.6660 - val_loss: 1.0639 - val_acc: 0.6078 - 8s/epoch - 18ms/step\n",
            "Epoch 30/40\n",
            "469/469 - 8s - loss: 0.8838 - acc: 0.6684 - val_loss: 1.0728 - val_acc: 0.6057 - 8s/epoch - 18ms/step\n",
            "Epoch 31/40\n",
            "469/469 - 8s - loss: 0.8631 - acc: 0.6775 - val_loss: 1.0759 - val_acc: 0.6035 - 8s/epoch - 18ms/step\n",
            "Epoch 32/40\n",
            "469/469 - 8s - loss: 0.8586 - acc: 0.6806 - val_loss: 1.0670 - val_acc: 0.6065 - 8s/epoch - 18ms/step\n",
            "Epoch 33/40\n",
            "469/469 - 8s - loss: 0.8539 - acc: 0.6806 - val_loss: 1.0575 - val_acc: 0.6143 - 8s/epoch - 18ms/step\n",
            "Epoch 34/40\n",
            "469/469 - 8s - loss: 0.8367 - acc: 0.6907 - val_loss: 1.0739 - val_acc: 0.6035 - 8s/epoch - 18ms/step\n",
            "Epoch 35/40\n",
            "469/469 - 8s - loss: 0.8361 - acc: 0.6864 - val_loss: 1.0728 - val_acc: 0.6083 - 8s/epoch - 18ms/step\n",
            "Epoch 36/40\n",
            "469/469 - 8s - loss: 0.8206 - acc: 0.6941 - val_loss: 1.0880 - val_acc: 0.6026 - 8s/epoch - 18ms/step\n",
            "Epoch 37/40\n",
            "469/469 - 9s - loss: 0.8208 - acc: 0.6951 - val_loss: 1.0744 - val_acc: 0.5943 - 9s/epoch - 18ms/step\n",
            "Epoch 38/40\n",
            "469/469 - 9s - loss: 0.8099 - acc: 0.7026 - val_loss: 1.0758 - val_acc: 0.6065 - 9s/epoch - 20ms/step\n",
            "Epoch 39/40\n",
            "469/469 - 8s - loss: 0.8169 - acc: 0.6952 - val_loss: 1.0715 - val_acc: 0.6117 - 8s/epoch - 18ms/step\n",
            "Epoch 40/40\n",
            "469/469 - 8s - loss: 0.7914 - acc: 0.7084 - val_loss: 1.0782 - val_acc: 0.6100 - 8s/epoch - 18ms/step\n"
          ]
        }
      ]
    },
    {
      "cell_type": "code",
      "source": [
        "model.evaluate(X_test, Y_test)"
      ],
      "metadata": {
        "colab": {
          "base_uri": "https://localhost:8080/"
        },
        "id": "OqodSCXtD5cr",
        "outputId": "6456739e-ab8b-4b56-a5c4-17c3b5d1d96e"
      },
      "execution_count": 167,
      "outputs": [
        {
          "output_type": "stream",
          "name": "stdout",
          "text": [
            "72/72 [==============================] - 1s 14ms/step - loss: 1.0782 - acc: 0.6100\n"
          ]
        },
        {
          "output_type": "execute_result",
          "data": {
            "text/plain": [
              "[1.0781866312026978, 0.6100000143051147]"
            ]
          },
          "metadata": {},
          "execution_count": 167
        }
      ]
    },
    {
      "cell_type": "code",
      "source": [
        "\n",
        "# Assuming X_test[0] is a grayscale image of shape (48, 48, 1)\n",
        "image = X_test[3].squeeze()  # Remove the last dimension to convert from (48, 48, 1) to (48, 48)\n",
        "\n",
        "plt.imshow(image, cmap='gray')\n",
        "plt.show()\n"
      ],
      "metadata": {
        "colab": {
          "base_uri": "https://localhost:8080/",
          "height": 431
        },
        "id": "Z8c6SVqiFB-x",
        "outputId": "57e522a1-d272-4a42-fb95-893838b1819a"
      },
      "execution_count": 186,
      "outputs": [
        {
          "output_type": "display_data",
          "data": {
            "text/plain": [
              "<Figure size 640x480 with 1 Axes>"
            ],
            "image/png": "[encoded data removed]"
          },
          "metadata": {}
        }
      ]
    },
    {
      "cell_type": "code",
      "source": [
        "y_predicted= model.predict(X_test)\n",
        "y_predicted[3]"
      ],
      "metadata": {
        "colab": {
          "base_uri": "https://localhost:8080/"
        },
        "id": "kUkyn2KFE6hm",
        "outputId": "3f4530d4-6767-4edf-ad7a-19fe4831d440"
      },
      "execution_count": 187,
      "outputs": [
        {
          "output_type": "stream",
          "name": "stdout",
          "text": [
            "72/72 [==============================] - 0s 4ms/step\n"
          ]
        },
        {
          "output_type": "execute_result",
          "data": {
            "text/plain": [
              "array([3.7257686e-02, 5.0095139e-05, 4.8233396e-03, 7.5418907e-01,\n",
              "       1.4923725e-02, 6.0909695e-04, 1.8814707e-01], dtype=float32)"
            ]
          },
          "metadata": {},
          "execution_count": 187
        }
      ]
    },
    {
      "cell_type": "code",
      "source": [
        "np.argmax(y_predicted[3])  ## correct 3 -> happy"
      ],
      "metadata": {
        "colab": {
          "base_uri": "https://localhost:8080/"
        },
        "id": "PfAdpDHEGZxH",
        "outputId": "f7afefa3-6f33-4fe6-95e3-992f285cdf1d"
      },
      "execution_count": 188,
      "outputs": [
        {
          "output_type": "execute_result",
          "data": {
            "text/plain": [
              "3"
            ]
          },
          "metadata": {},
          "execution_count": 188
        }
      ]
    },
    {
      "cell_type": "code",
      "source": [
        "plt.plot(history.history['acc'])\n",
        "plt.plot(history.history['val_acc'])\n",
        "plt.title('model accuracy')\n",
        "plt.ylabel('accuracy')\n",
        "plt.xlabel('epoch')\n",
        "plt.legend(['train', 'test'], loc='upper left')\n",
        "plt.show()\n",
        "# summarize history for loss\n",
        "plt.plot(history.history['loss'])\n",
        "plt.plot(history.history['val_loss'])\n",
        "plt.title('model loss')\n",
        "plt.ylabel('loss')\n",
        "plt.xlabel('epoch')\n",
        "plt.legend(['train', 'test'], loc='upper left')\n",
        "plt.show()"
      ],
      "metadata": {
        "colab": {
          "base_uri": "https://localhost:8080/",
          "height": 927
        },
        "id": "U0CAFKkkDSYx",
        "outputId": "ab8d4b92-5061-4da4-be25-e284288d064c"
      },
      "execution_count": 189,
      "outputs": [
        {
          "output_type": "display_data",
          "data": {
            "text/plain": [
              "<Figure size 640x480 with 1 Axes>"
            ],
            "image/png": "[encoded data removed]"
          },
          "metadata": {}
        },
        {
          "output_type": "display_data",
          "data": {
            "text/plain": [
              "<Figure size 640x480 with 1 Axes>"
            ],
            "image/png": "[encoded data removed]"
          },
          "metadata": {}
        }
      ]
    },
    {
      "cell_type": "code",
      "source": [
        "model.save('emotion_detection_model.h5')"
      ],
      "metadata": {
        "id": "QlS1A_MUD0Vx"
      },
      "execution_count": 190,
      "outputs": []
    }
  ],
  "metadata": {
    "accelerator": "GPU",
    "colab": {
      "provenance": [],
      "mount_file_id": "1B9GBD7mJmEpgeH8eD2kYHEeduFS6ucNt",
      "authorship_tag": "ABX9TyN6YYo6qAbL5f5ckEUqnckn",
      "include_colab_link": true
    },
    "gpuClass": "standard",
    "kernelspec": {
      "display_name": "Python 3",
      "name": "python3"
    },
    "language_info": {
      "name": "python"
    }
  },
  "nbformat": 4,
  "nbformat_minor": 0
}